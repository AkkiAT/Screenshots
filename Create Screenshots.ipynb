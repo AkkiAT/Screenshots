{
 "cells": [
  {
   "cell_type": "code",
   "execution_count": 16,
   "metadata": {},
   "outputs": [],
   "source": [
    "# create screenshots\n",
    "from tkinter import *"
   ]
  },
  {
   "cell_type": "code",
   "execution_count": 17,
   "metadata": {},
   "outputs": [],
   "source": [
    "import pyautogui"
   ]
  },
  {
   "cell_type": "code",
   "execution_count": 18,
   "metadata": {},
   "outputs": [],
   "source": [
    "def take_ss():\n",
    "    add_data = entry.get()\n",
    "    path = add_data+\"\\\\test.png\"\n",
    "    print(path)\n",
    "    ss = pyautogui.screenshot()\n",
    "    ss.save(\"test1.png\")"
   ]
  },
  {
   "cell_type": "code",
   "execution_count": 19,
   "metadata": {},
   "outputs": [],
   "source": [
    "from tkinter import *\n",
    "win = Tk()\n",
    "win.title(\"Ajay Tutorial SS\")\n",
    "win.geometry(\"500x500\")\n",
    "win.config(bg= \"yellow\")\n",
    "win.resizable(False,False)\n",
    "\n",
    "entry = Entry(win,font=('Time New Roman',50))\n",
    "entry.place(x=20, height=100, width=660, y=50)\n",
    "button = Button(win,text=\"Done\",font=('Time New Roman',50,\"bold\"),command=take_ss)\n",
    "button.place(x=250,y=100,height=100,width=200)"
   ]
  }
 ],
 "metadata": {
  "kernelspec": {
   "display_name": ".venv",
   "language": "python",
   "name": "python3"
  },
  "language_info": {
   "codemirror_mode": {
    "name": "ipython",
    "version": 3
   },
   "file_extension": ".py",
   "mimetype": "text/x-python",
   "name": "python",
   "nbconvert_exporter": "python",
   "pygments_lexer": "ipython3",
   "version": "3.12.2"
  }
 },
 "nbformat": 4,
 "nbformat_minor": 2
}
